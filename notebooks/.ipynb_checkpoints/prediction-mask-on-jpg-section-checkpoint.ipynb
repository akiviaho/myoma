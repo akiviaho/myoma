{
 "cells": [
  {
   "cell_type": "code",
   "execution_count": 6,
   "id": "80586caf",
   "metadata": {},
   "outputs": [],
   "source": [
    "import os\n",
    "import sys\n",
    "from logzero import logger\n",
    "from matplotlib import pyplot as plt\n",
    "from itertools import cycle\n",
    "from scipy import stats\n",
    "import random\n",
    "\n",
    "import numpy as np\n",
    "import pandas as pd\n",
    "import seaborn as sns\n",
    "import tensorflow as tf\n",
    "from enum import IntEnum\n",
    "\n",
    "from PIL import Image \n",
    "Image.MAX_IMAGE_PIXELS = 1171568999\n",
    "                                               "
   ]
  },
  {
   "cell_type": "code",
   "execution_count": 7,
   "id": "2438ab47",
   "metadata": {},
   "outputs": [],
   "source": [
    "records = pd.read_csv('/lustre/nvme/kiviaho/tfr_KF_1_2_3_4_in_5.tsv', sep = '\\t')\n",
    "files = list(dict.fromkeys(records['TFRecords'])) # This preserves the order, unlike set !!\n",
    "    \n",
    "random.seed(42)\n",
    "random.shuffle(files)"
   ]
  },
  {
   "cell_type": "code",
   "execution_count": 8,
   "id": "40c859dc",
   "metadata": {},
   "outputs": [],
   "source": [
    "sample_info = pd.read_csv('/lustre/scratch/kiviaho/myoma/myoma-new/sample_information_KF_1_2_3_4_in_5.tsv',sep='\\t')\n",
    "\n"
   ]
  },
  {
   "cell_type": "code",
   "execution_count": 9,
   "id": "e5aa4ee3",
   "metadata": {},
   "outputs": [
    {
     "name": "stdout",
     "output_type": "stream",
     "text": [
      "TFRecord: /lustre/nvme/kiviaho/tfrecords/KF_1_in_5_1834.tfr\n",
      "Tile 0/1600\n",
      "Tile 800/1600\n"
     ]
    }
   ],
   "source": [
    "for sample in files[8151:8152]:\n",
    "    print(\"TFRecord: \"+sample)\n",
    "    subset = sample_info[sample_info['TFRecords'] == sample]\n",
    "    size = len(subset['Tile'])\n",
    "    i=0\n",
    "    for path in subset['Tile']:\n",
    "        try:\n",
    "            img = plt.imread(path)\n",
    "        except:\n",
    "            print(path + ' is problematic')\n",
    "        if i % 800 == 0:\n",
    "            print('Tile '+ str(i) + '/'+ str(size))\n",
    "        i+=1\n"
   ]
  },
  {
   "cell_type": "code",
   "execution_count": 126,
   "id": "2dd8f97b",
   "metadata": {},
   "outputs": [],
   "source": [
    "# DOWNLOAD THE SAMPLE INFORMATION MATRICES\n",
    "results_file = 'binary_label_KF-1-4_2_epochs_100_percent_21461887_at_2022-05-22_01:07:03_598px.h5_new_dataset_binary_prediction_results.csv'\n",
    "results = pd.read_csv('/lustre/scratch/kiviaho/myoma/myoma-new/false-IHC-stain/'+results_file)\n",
    "\n",
    "save_path = '/lustre/scratch/kiviaho/myoma/myoma-new/tiling-dir/side-by-side-prediction-plots-alt/'\n",
    "\n",
    "# Convert labels to 0-1 binary (wt/mut)\n",
    "results.replace([2,3],1,inplace=True) \n",
    "\n",
    "results = results[:len(results)-1]\n",
    "results = results.rename(columns={'0': 0, '1': 1})\n",
    "\n",
    "# Tile coordinates are in original image scale and the jpg is down sampled in order to fit into memory.\n",
    "# Tile coordinates have to be divided by this integer\n",
    "downsample_lvl = 16\n",
    "downsampled_tile_size = np.ceil(598/downsample_lvl)\n",
    "\n"
   ]
  },
  {
   "cell_type": "code",
   "execution_count": 127,
   "id": "e042cb3c",
   "metadata": {},
   "outputs": [
    {
     "name": "stderr",
     "output_type": "stream",
     "text": [
      "/home/ak431480/.conda/envs/myoma-new-env/lib/python3.7/site-packages/ipykernel_launcher.py:42: RuntimeWarning: More than 20 figures have been opened. Figures created through the pyplot interface (`matplotlib.pyplot.figure`) are retained until explicitly closed and may consume too much memory. (To control this warning, see the rcParam `figure.max_open_warning`).\n"
     ]
    },
    {
     "data": {
      "text/plain": [
       "<Figure size 9600x9600 with 0 Axes>"
      ]
     },
     "metadata": {},
     "output_type": "display_data"
    },
    {
     "data": {
      "text/plain": [
       "<Figure size 9600x9600 with 0 Axes>"
      ]
     },
     "metadata": {},
     "output_type": "display_data"
    },
    {
     "data": {
      "text/plain": [
       "<Figure size 9600x9600 with 0 Axes>"
      ]
     },
     "metadata": {},
     "output_type": "display_data"
    },
    {
     "data": {
      "text/plain": [
       "<Figure size 9600x9600 with 0 Axes>"
      ]
     },
     "metadata": {},
     "output_type": "display_data"
    },
    {
     "data": {
      "text/plain": [
       "<Figure size 9600x9600 with 0 Axes>"
      ]
     },
     "metadata": {},
     "output_type": "display_data"
    },
    {
     "data": {
      "text/plain": [
       "<Figure size 9600x9600 with 0 Axes>"
      ]
     },
     "metadata": {},
     "output_type": "display_data"
    },
    {
     "data": {
      "text/plain": [
       "<Figure size 9600x9600 with 0 Axes>"
      ]
     },
     "metadata": {},
     "output_type": "display_data"
    },
    {
     "data": {
      "text/plain": [
       "<Figure size 9600x9600 with 0 Axes>"
      ]
     },
     "metadata": {},
     "output_type": "display_data"
    },
    {
     "data": {
      "text/plain": [
       "<Figure size 9600x9600 with 0 Axes>"
      ]
     },
     "metadata": {},
     "output_type": "display_data"
    },
    {
     "data": {
      "text/plain": [
       "<Figure size 9600x9600 with 0 Axes>"
      ]
     },
     "metadata": {},
     "output_type": "display_data"
    },
    {
     "data": {
      "text/plain": [
       "<Figure size 9600x9600 with 0 Axes>"
      ]
     },
     "metadata": {},
     "output_type": "display_data"
    },
    {
     "data": {
      "text/plain": [
       "<Figure size 9600x9600 with 0 Axes>"
      ]
     },
     "metadata": {},
     "output_type": "display_data"
    },
    {
     "data": {
      "text/plain": [
       "<Figure size 9600x9600 with 0 Axes>"
      ]
     },
     "metadata": {},
     "output_type": "display_data"
    },
    {
     "data": {
      "text/plain": [
       "<Figure size 9600x9600 with 0 Axes>"
      ]
     },
     "metadata": {},
     "output_type": "display_data"
    },
    {
     "data": {
      "text/plain": [
       "<Figure size 9600x9600 with 0 Axes>"
      ]
     },
     "metadata": {},
     "output_type": "display_data"
    },
    {
     "data": {
      "text/plain": [
       "<Figure size 9600x9600 with 0 Axes>"
      ]
     },
     "metadata": {},
     "output_type": "display_data"
    },
    {
     "data": {
      "text/plain": [
       "<Figure size 9600x9600 with 0 Axes>"
      ]
     },
     "metadata": {},
     "output_type": "display_data"
    },
    {
     "data": {
      "text/plain": [
       "<Figure size 9600x9600 with 0 Axes>"
      ]
     },
     "metadata": {},
     "output_type": "display_data"
    },
    {
     "data": {
      "text/plain": [
       "<Figure size 9600x9600 with 0 Axes>"
      ]
     },
     "metadata": {},
     "output_type": "display_data"
    },
    {
     "data": {
      "text/plain": [
       "<Figure size 9600x9600 with 0 Axes>"
      ]
     },
     "metadata": {},
     "output_type": "display_data"
    },
    {
     "data": {
      "text/plain": [
       "<Figure size 9600x9600 with 0 Axes>"
      ]
     },
     "metadata": {},
     "output_type": "display_data"
    },
    {
     "data": {
      "text/plain": [
       "<Figure size 9600x9600 with 0 Axes>"
      ]
     },
     "metadata": {},
     "output_type": "display_data"
    },
    {
     "data": {
      "text/plain": [
       "<Figure size 9600x9600 with 0 Axes>"
      ]
     },
     "metadata": {},
     "output_type": "display_data"
    },
    {
     "data": {
      "text/plain": [
       "<Figure size 9600x9600 with 0 Axes>"
      ]
     },
     "metadata": {},
     "output_type": "display_data"
    },
    {
     "data": {
      "text/plain": [
       "<Figure size 9600x9600 with 0 Axes>"
      ]
     },
     "metadata": {},
     "output_type": "display_data"
    },
    {
     "data": {
      "text/plain": [
       "<Figure size 9600x9600 with 0 Axes>"
      ]
     },
     "metadata": {},
     "output_type": "display_data"
    }
   ],
   "source": [
    "new_samples = np.unique(results['Sample'])[np.where(['m' in s for s in np.unique(results['Sample'])])]\n",
    "\n",
    "for sample_name in new_samples:\n",
    "#    sample_name = 'My6146m1'\n",
    "    img_name = sample_name+'.jpg'\n",
    "    img = plt.imread('/lustre/scratch/kiviaho/myoma/myoma-new/tiling-dir/Slides-20220326-myoma-JPG-16-downsample/'+img_name)\n",
    "    img_height,img_width = img.shape[0],img.shape[1]\n",
    "\n",
    "    df_subset = results[results['Sample']== sample_name]\n",
    "    df_subset = df_subset.reset_index(drop = True)\n",
    "\n",
    "    # Splitting rules depend on sample naming schemes\n",
    "    # Old samples are of form My_6xxx_Tx\n",
    "    # New samples are of form My6xxxmx\n",
    "\n",
    "    # Getting the coordinates\n",
    "    tiles = [s.split('/')[len(s.split('/'))-1].strip('.jpg') for s in df_subset['Path']]\n",
    "    if 'm' in img_name:\n",
    "        tile_coords = np.array([s.split('_')[2:4] for s in tiles]).astype(np.int32)\n",
    "    elif 'T' in img_name:\n",
    "        tile_coords = np.array([s.split('_')[4:6] for s in tiles]).astype(np.int32)\n",
    "\n",
    "    tile_coords = np.divide(tile_coords,downsample_lvl).astype(np.int32)\n",
    "    df_subset['x_coord'] = tile_coords[:,0]\n",
    "    df_subset['y_coord'] = tile_coords[:,1]\n",
    "\n",
    "    # Create image mask\n",
    "\n",
    "    mask = np.ones(img.shape,dtype=np.float64)\n",
    "    for idx in range(len(df_subset)):\n",
    "        x_coord = df_subset['x_coord'][idx]\n",
    "        y_coord = df_subset['y_coord'][idx]\n",
    "        conf = df_subset[1][idx]\n",
    "\n",
    "        tile = mask[y_coord:int(y_coord+tile_size),x_coord:int(x_coord+tile_size)]\n",
    "        new_tile = np.minimum(tile,np.multiply(np.ones(tile.shape),(1,1-conf,1)))\n",
    "        mask[int(y_coord-tile_size):y_coord,x_coord:int(x_coord+tile_size)] = new_tile\n",
    "\n",
    "\n",
    "\n",
    "    # Creating the plot\n",
    "    fig, (ax1, ax2) = plt.subplots(1,2,figsize=(16,16),dpi=600)\n",
    "    ax1.imshow(img,aspect='auto')\n",
    "    ax1.set_xlim([0, img_width])\n",
    "    ax1.set_ylim([img_height,0])\n",
    "\n",
    "    ax2.imshow(mask,aspect = 'auto')\n",
    "    ax2.set_xlim([0, img_width])\n",
    "    ax2.set_ylim([img_height,0])\n",
    "\n",
    "    plt.savefig(save_path+sample_name+'_side_by_side_prediction.png')\n",
    "    plt.clf()\n"
   ]
  },
  {
   "cell_type": "code",
   "execution_count": 128,
   "id": "d7033d71",
   "metadata": {},
   "outputs": [],
   "source": [
    "def mask_image(mask, image, mask_color=(0, 0, 255,)):\n",
    "    '''\n",
    "    mask target region with green color\n",
    "    '''\n",
    "    masked = image.copy()\n",
    "    masked[mask != 0] = np.multiply(mask_color,mask)\n",
    "    return masked\n"
   ]
  },
  {
   "cell_type": "code",
   "execution_count": 129,
   "id": "08a0a0ff",
   "metadata": {},
   "outputs": [],
   "source": [
    "# # ALTERNATIVE PLOTTING WITH PYPLOT\n",
    "# # point size 1.6 is approximately 50% overlap\n",
    "\n",
    "# ax2.scatter(df_subset['x_coord'],df_subset['y_coord'],marker='s',alpha=df_subset[1],s=0.4)\n",
    "# ax2.set_xlim([0, img_width])\n",
    "# ax2.set_ylim([img_height,0])"
   ]
  }
 ],
 "metadata": {
  "kernelspec": {
   "display_name": "Python 3 (ipykernel)",
   "language": "python",
   "name": "python3"
  },
  "language_info": {
   "codemirror_mode": {
    "name": "ipython",
    "version": 3
   },
   "file_extension": ".py",
   "mimetype": "text/x-python",
   "name": "python",
   "nbconvert_exporter": "python",
   "pygments_lexer": "ipython3",
   "version": "3.7.0"
  }
 },
 "nbformat": 4,
 "nbformat_minor": 5
}
