{
 "cells": [
  {
   "cell_type": "code",
   "execution_count": 1,
   "metadata": {},
   "outputs": [],
   "source": [
    "import os\n",
    "import random\n",
    "import numpy as np\n",
    "import pandas as pd\n",
    "import time\n",
    "from pathlib import Path\n",
    "from collections import Counter\n",
    "from matplotlib.colors import ListedColormap, LinearSegmentedColormap\n",
    "from matplotlib import cm\n",
    "\n",
    "from matplotlib import pyplot as plt\n",
    "\n",
    "from logzero import logger\n",
    "\n",
    "import warnings\n",
    "warnings.filterwarnings('ignore')\n",
    "import tensorflow as tf"
   ]
  },
  {
   "cell_type": "code",
   "execution_count": 2,
   "metadata": {},
   "outputs": [],
   "source": [
    "# UPDATED ON 5.6.2022 TO INCLUDE TILE PATH AND SAMPLE INSIDE THE TFRECORDS DATA STRUCTURE, AK"
   ]
  },
  {
   "cell_type": "code",
   "execution_count": 3,
   "metadata": {},
   "outputs": [],
   "source": [
    "patient_lvl_sheet = pd.read_csv('/lustre/scratch/kiviaho/myoma/myoma-new/sheets/both_datasets_patient_level_sheet.tsv',sep='\\t')\n",
    "sample_lvl_sheet = pd.read_csv('/lustre/scratch/kiviaho/myoma/myoma-new/sheets/both_datasets_samples_level_sheet.tsv',sep='\\t')\n",
    "tile_sheet = pd.read_csv('/lustre/scratch/kiviaho/myoma/myoma-new/sheets/both_datasets_sample_sheet_by_tile.tsv',sep='\\t')\n",
    "\n"
   ]
  },
  {
   "cell_type": "code",
   "execution_count": 4,
   "metadata": {},
   "outputs": [],
   "source": [
    "corrupted_tiles = ['/lustre/scratch/kiviaho/myoma/myoma-new/data/old_slides_new_tiles_598px/tiles_mixed_indices/_My_6086_T4_46046_50531.jpg',\n",
    "                      '/lustre/scratch/kiviaho/myoma/myoma-new/data/old_slides_new_tiles_598px/tiles_mixed_indices/_My_6009_T1_69069_69069.jpg']\n",
    "## REMOVE CORRUPTED TILES\n",
    "tile_sheet = tile_sheet.drop(tile_sheet[tile_sheet['Tile'].isin(corrupted_tiles)].index)"
   ]
  },
  {
   "cell_type": "code",
   "execution_count": 5,
   "metadata": {},
   "outputs": [],
   "source": [
    "## FILTER OLD SAMPLES ###\n",
    "patient_lvl_sheet = patient_lvl_sheet[patient_lvl_sheet['Set'] == 'new']\n",
    "sample_lvl_sheet = sample_lvl_sheet[sample_lvl_sheet['Dataset'] == 'new']\n",
    "tile_sheet = tile_sheet[tile_sheet['Dataset'] == 'new']\n",
    "\n"
   ]
  },
  {
   "cell_type": "code",
   "execution_count": 6,
   "metadata": {},
   "outputs": [],
   "source": [
    "\n",
    "seed_nmbr = []\n",
    "sample_nmbr_var = []\n",
    "for seed_nmbr in range(200): # Look through 200 seed numbers\n",
    "    df = patient_lvl_sheet.sample(frac=1,random_state=seed_nmbr).reset_index(drop=True)\n",
    "    df1 = df[:np.int(len(df)*0.7)]\n",
    "    df2 = df[np.int(len(df)*0.7): np.int(len(df)*0.8)]\n",
    "    df3 = df[np.int(len(df)*0.8):]\n",
    "                    \n",
    "    \n",
    "    n_tiles_in_split = [df1['Tiles'].sum()/7,\n",
    "                       df2['Tiles'].sum()/1,\n",
    "                       df3['Tiles'].sum()/2]\n",
    "    \n",
    "    var = np.round(np.var(n_tiles_in_split),1)\n",
    "    sample_nmbr_var.append(var)\n",
    "    \n",
    "# Pick the seed number with the smallest tile number variation\n",
    "best_seed_nmbr = np.argsort(sample_nmbr_var)[10]\n",
    "\n",
    "df = patient_lvl_sheet.sample(frac=1,random_state=best_seed_nmbr).reset_index(drop=True)\n",
    "df1 = df[:np.int(len(df)*0.7)]\n",
    "df2 = df[np.int(len(df)*0.7): np.int(len(df)*0.8)]\n",
    "df3 = df[np.int(len(df)*0.8):]"
   ]
  },
  {
   "cell_type": "code",
   "execution_count": 9,
   "metadata": {},
   "outputs": [],
   "source": [
    "\n",
    "# These are the slides with final samples. \n",
    "df1 =  tile_sheet[tile_sheet['Patient'].isin(df1['Patient'])].reset_index(drop=True)\n",
    "df2 =  tile_sheet[tile_sheet['Patient'].isin(df2['Patient'])].reset_index(drop=True)\n",
    "df3 =  tile_sheet[tile_sheet['Patient'].isin(df3['Patient'])].reset_index(drop=True)"
   ]
  },
  {
   "cell_type": "code",
   "execution_count": 10,
   "metadata": {},
   "outputs": [
    {
     "name": "stdout",
     "output_type": "stream",
     "text": [
      "Counter({'MED12': 4559647, 'HMGA2': 1232525, 'YEATS4': 176050})\n",
      "Counter({'MED12': 413564, 'HMGA2': 271661, 'YEATS4': 59724})\n",
      "Counter({'MED12': 1240256, 'HMGA2': 326357, 'YEATS4': 46662})\n"
     ]
    }
   ],
   "source": [
    "# Do the same on tile lvl\n",
    "print(Counter(df1['Type']))\n",
    "print(Counter(df2['Type']))\n",
    "print(Counter(df3['Type']))"
   ]
  },
  {
   "cell_type": "code",
   "execution_count": 11,
   "metadata": {},
   "outputs": [
    {
     "name": "stdout",
     "output_type": "stream",
     "text": [
      "56\n",
      "8\n",
      "16\n"
     ]
    }
   ],
   "source": [
    "# Do the same on tile lvl\n",
    "print(len(Counter(df1['Patient'])))\n",
    "print(len(Counter(df2['Patient'])))\n",
    "print(len(Counter(df3['Patient'])))"
   ]
  },
  {
   "cell_type": "code",
   "execution_count": 12,
   "metadata": {},
   "outputs": [
    {
     "name": "stdout",
     "output_type": "stream",
     "text": [
      "147\n",
      "20\n",
      "33\n"
     ]
    }
   ],
   "source": [
    "# Do the same on tile lvl\n",
    "print(len(Counter(df1['Sample'])))\n",
    "print(len(Counter(df2['Sample'])))\n",
    "print(len(Counter(df3['Sample'])))"
   ]
  },
  {
   "cell_type": "code",
   "execution_count": 13,
   "metadata": {},
   "outputs": [],
   "source": [
    "# This will do. Seed number = 7. Write the tile sheets into csv files\n",
    "df1[['Sample','Type','Tile']].to_csv('/lustre/scratch/kiviaho/myoma/myoma-new/data/tile_split/new-slides-train.tsv',sep='\\t')\n",
    "df2[['Sample','Type','Tile']].to_csv('/lustre/scratch/kiviaho/myoma/myoma-new/data/tile_split/new-slides-validation.tsv',sep='\\t')\n",
    "df3[['Sample','Type','Tile']].to_csv('/lustre/scratch/kiviaho/myoma/myoma-new/data/tile_split/new-slides-test.tsv',sep='\\t')\n",
    "\n"
   ]
  },
  {
   "cell_type": "code",
   "execution_count": 50,
   "metadata": {},
   "outputs": [
    {
     "data": {
      "text/plain": [
       "Text(1.0, 1.0, '3.8e+06 Tiles')"
      ]
     },
     "execution_count": 50,
     "metadata": {},
     "output_type": "execute_result"
    },
    {
     "data": {
      "image/png": "[encoded data removed]",
      "text/plain": [
       "<Figure size 600x600 with 1 Axes>"
      ]
     },
     "metadata": {
      "needs_background": "light"
     },
     "output_type": "display_data"
    }
   ],
   "source": [
    "data = df5\n",
    "\n",
    "values = list(Counter(data['Type']).values())\n",
    "labs = list(Counter(data['Type']).keys())\n",
    "\n",
    "labs = [x for _,x in sorted(zip(values,labs),reverse=True)]\n",
    "values = sorted(values,reverse=True)\n",
    "\n",
    "\n",
    "idx, = np.where(np.asarray(labs)=='wt')\n",
    "labs[idx[0]] = 'Wild Type'\n",
    "\n",
    "if data.equals(df4):\n",
    "    print('It do be true')\n",
    "    labs = np.asarray(labs)[[0,2,1,3]].tolist()\n",
    "    values = np.asarray(values)[[0,2,1,3]].tolist()\n",
    "\n",
    "\n",
    "cmap = cm.get_cmap('viridis',4).colors\n",
    "\n",
    "fig = plt.figure(figsize=(4,4),dpi=150)\n",
    "plt.bar(x=labs,\n",
    "        height =values,\n",
    "        label = labs,\n",
    "        color = cmap,\n",
    "        )\n",
    "\n",
    "ax = plt.gca()\n",
    "ax.set_ylim([0, 3.4e6])\n",
    "ax.get_xaxis().set_visible(False)\n",
    "plt.title(label='{:.1e} Tiles'.format(len(data)),loc='right')\n",
    "    \n",
    "# plt.pie(values,\n",
    "#         labels=['','','',''],\n",
    "#         counterclock=False,\n",
    "#         pctdistance=1.2,\n",
    "#         startangle=90,\n",
    "#         autopct='%1.1f%%',\n",
    "#         shadow=True,\n",
    "#         textprops = {\"fontsize\":10,'color':'black'},\n",
    "#         colors=cmap\n",
    "#        )\n",
    " \n",
    "# plt.legend(labels=labs, loc='upper center',bbox_to_anchor=(0.5, -0.04),\n",
    "#           ncol=2,prop={\"size\":20})\n",
    "\n"
   ]
  }
 ],
 "metadata": {
  "kernelspec": {
   "display_name": "Python 3 (ipykernel)",
   "language": "python",
   "name": "python3"
  },
  "language_info": {
   "codemirror_mode": {
    "name": "ipython",
    "version": 3
   },
   "file_extension": ".py",
   "mimetype": "text/x-python",
   "name": "python",
   "nbconvert_exporter": "python",
   "pygments_lexer": "ipython3",
   "version": "3.7.0"
  }
 },
 "nbformat": 4,
 "nbformat_minor": 2
}
