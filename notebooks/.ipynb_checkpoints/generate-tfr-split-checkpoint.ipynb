{
 "cells": [
  {
   "cell_type": "code",
   "execution_count": 1,
   "metadata": {},
   "outputs": [],
   "source": [
    "import os\n",
    "import random\n",
    "import numpy as np\n",
    "import pandas as pd\n",
    "import time\n",
    "from pathlib import Path\n",
    "from collections import Counter\n",
    "from matplotlib.colors import ListedColormap, LinearSegmentedColormap\n",
    "from matplotlib import cm\n",
    "\n",
    "from matplotlib import pyplot as plt\n",
    "\n",
    "from logzero import logger\n",
    "\n",
    "import warnings\n",
    "warnings.filterwarnings('ignore')"
   ]
  },
  {
   "cell_type": "code",
   "execution_count": 2,
   "metadata": {},
   "outputs": [],
   "source": [
    "# UPDATED ON 22.6.2022 TO INCLUDE TILE PATH AND SAMPLE INSIDE THE TFRECORDS DATA STRUCTURE, AK"
   ]
  },
  {
   "cell_type": "code",
   "execution_count": 6,
   "metadata": {},
   "outputs": [],
   "source": [
    "patient_lvl_sheet = pd.read_csv('/lustre/scratch/kiviaho/myoma/myoma-new/sheets/patient_sheet_three_batches.tsv',sep='\\t',index_col=0)\n",
    "sample_lvl_sheet = pd.read_csv('/lustre/scratch/kiviaho/myoma/myoma-new/sheets/sample_sheet_three_batches.csv',sep=';')\n",
    "tile_sheet = pd.read_csv('/lustre/scratch/kiviaho/myoma/myoma-new/sheets/sample_by_tile_three_batches.tsv',sep='\\t')\n",
    "\n"
   ]
  },
  {
   "cell_type": "code",
   "execution_count": 8,
   "metadata": {},
   "outputs": [
    {
     "data": {
      "text/html": [
       "<div>\n",
       "<style scoped>\n",
       "    .dataframe tbody tr th:only-of-type {\n",
       "        vertical-align: middle;\n",
       "    }\n",
       "\n",
       "    .dataframe tbody tr th {\n",
       "        vertical-align: top;\n",
       "    }\n",
       "\n",
       "    .dataframe thead th {\n",
       "        text-align: right;\n",
       "    }\n",
       "</style>\n",
       "<table border=\"1\" class=\"dataframe\">\n",
       "  <thead>\n",
       "    <tr style=\"text-align: right;\">\n",
       "      <th></th>\n",
       "      <th>Patient</th>\n",
       "      <th>Sections</th>\n",
       "      <th>Type</th>\n",
       "      <th>Batch</th>\n",
       "      <th>Tiles</th>\n",
       "    </tr>\n",
       "  </thead>\n",
       "  <tbody>\n",
       "    <tr>\n",
       "      <th>0</th>\n",
       "      <td>6002</td>\n",
       "      <td>3</td>\n",
       "      <td>MED12</td>\n",
       "      <td>first</td>\n",
       "      <td>155479</td>\n",
       "    </tr>\n",
       "    <tr>\n",
       "      <th>1</th>\n",
       "      <td>6004</td>\n",
       "      <td>3</td>\n",
       "      <td>MED12</td>\n",
       "      <td>first</td>\n",
       "      <td>150985</td>\n",
       "    </tr>\n",
       "    <tr>\n",
       "      <th>2</th>\n",
       "      <td>6005</td>\n",
       "      <td>2</td>\n",
       "      <td>MED12</td>\n",
       "      <td>first</td>\n",
       "      <td>74970</td>\n",
       "    </tr>\n",
       "    <tr>\n",
       "      <th>3</th>\n",
       "      <td>6006</td>\n",
       "      <td>1</td>\n",
       "      <td>UNK</td>\n",
       "      <td>first</td>\n",
       "      <td>16452</td>\n",
       "    </tr>\n",
       "    <tr>\n",
       "      <th>4</th>\n",
       "      <td>6008</td>\n",
       "      <td>4</td>\n",
       "      <td>MED12</td>\n",
       "      <td>first</td>\n",
       "      <td>127289</td>\n",
       "    </tr>\n",
       "    <tr>\n",
       "      <th>...</th>\n",
       "      <td>...</td>\n",
       "      <td>...</td>\n",
       "      <td>...</td>\n",
       "      <td>...</td>\n",
       "      <td>...</td>\n",
       "    </tr>\n",
       "    <tr>\n",
       "      <th>228</th>\n",
       "      <td>6351</td>\n",
       "      <td>1</td>\n",
       "      <td>HMGA2</td>\n",
       "      <td>third</td>\n",
       "      <td>53286</td>\n",
       "    </tr>\n",
       "    <tr>\n",
       "      <th>229</th>\n",
       "      <td>6353</td>\n",
       "      <td>5</td>\n",
       "      <td>UNK/HMGA2</td>\n",
       "      <td>third</td>\n",
       "      <td>230942</td>\n",
       "    </tr>\n",
       "    <tr>\n",
       "      <th>230</th>\n",
       "      <td>6354</td>\n",
       "      <td>1</td>\n",
       "      <td>UNK</td>\n",
       "      <td>third</td>\n",
       "      <td>18165</td>\n",
       "    </tr>\n",
       "    <tr>\n",
       "      <th>231</th>\n",
       "      <td>6360</td>\n",
       "      <td>1</td>\n",
       "      <td>UNK</td>\n",
       "      <td>third</td>\n",
       "      <td>48539</td>\n",
       "    </tr>\n",
       "    <tr>\n",
       "      <th>232</th>\n",
       "      <td>6361</td>\n",
       "      <td>2</td>\n",
       "      <td>HMGA2</td>\n",
       "      <td>third</td>\n",
       "      <td>67626</td>\n",
       "    </tr>\n",
       "  </tbody>\n",
       "</table>\n",
       "<p>233 rows × 5 columns</p>\n",
       "</div>"
      ],
      "text/plain": [
       "     Patient  Sections       Type  Batch   Tiles\n",
       "0       6002         3      MED12  first  155479\n",
       "1       6004         3      MED12  first  150985\n",
       "2       6005         2      MED12  first   74970\n",
       "3       6006         1        UNK  first   16452\n",
       "4       6008         4      MED12  first  127289\n",
       "..       ...       ...        ...    ...     ...\n",
       "228     6351         1      HMGA2  third   53286\n",
       "229     6353         5  UNK/HMGA2  third  230942\n",
       "230     6354         1        UNK  third   18165\n",
       "231     6360         1        UNK  third   48539\n",
       "232     6361         2      HMGA2  third   67626\n",
       "\n",
       "[233 rows x 5 columns]"
      ]
     },
     "execution_count": 8,
     "metadata": {},
     "output_type": "execute_result"
    }
   ],
   "source": [
    "patient_lvl_sheet"
   ]
  },
  {
   "cell_type": "code",
   "execution_count": 50,
   "metadata": {},
   "outputs": [],
   "source": [
    "# Fill NaN with average tiles / section. \n",
    "# Remove before further processing!!\n",
    "#mean_per_section = np.mean(patient_lvl_sheet['Tiles']/patient_lvl_sheet['Sections'])\n",
    "#tiles = patient_lvl_sheet['Tiles']\n",
    "#idxs = np.where(tiles.isna())\n",
    "#tiles[idxs[0]] = np.round(np.multiply(patient_lvl_sheet['Sections'][idxs[0]],mean_per_section),0)\n",
    "#sample_lvl_sheet['Tiles'] = tiles"
   ]
  },
  {
   "cell_type": "code",
   "execution_count": null,
   "metadata": {},
   "outputs": [],
   "source": []
  },
  {
   "cell_type": "code",
   "execution_count": 65,
   "metadata": {},
   "outputs": [],
   "source": [
    "# Find the seed number that mixes samples into 5 sets with approximately equal proportions.\n",
    "# There are 109 wt samples still to come, which will take our sample size up to an even 100 samples. \n",
    "\n",
    "# The function finds the best seed number by minimizing stddev in number of tiles.\n",
    "# Number of samples ≠ Number of patients ≠ Number of tiles\n",
    "# There are different numbers of samples originating from different patients.\n",
    "\n",
    "seed_nmbr = []\n",
    "sample_nmbr_var = []\n",
    "for seed_nmbr in range(1000): # Look through\n",
    "    df = patient_lvl_sheet.sample(frac=1,random_state=seed_nmbr).reset_index(drop=True)\n",
    "    df1, df2, df3, df4, df5 = np.array_split(df,5)\n",
    "    n_tiles_in_split = [df1['Tiles'].sum(),\n",
    "                       df2['Tiles'].sum(),\n",
    "                       df3['Tiles'].sum(),\n",
    "                       df4['Tiles'].sum(),\n",
    "                       df5['Tiles'].sum()]\n",
    "    \n",
    "    var = np.round(np.var(n_tiles_in_split),1)\n",
    "    sample_nmbr_var.append(var)\n",
    "    \n",
    "# Pick the seed number with the smallest tile number variation\n",
    "# And that contains all mutation types in each fold\n",
    "best_seed_nmbr = np.argsort(sample_nmbr_var)[9]\n",
    "\n",
    "df = patient_lvl_sheet.sample(frac=1,random_state=best_seed_nmbr).reset_index(drop=True)\n",
    "df1, df2, df3, df4, df5 = np.array_split(df,5)\n"
   ]
  },
  {
   "cell_type": "code",
   "execution_count": 77,
   "metadata": {},
   "outputs": [
    {
     "data": {
      "text/plain": [
       "607"
      ]
     },
     "execution_count": 77,
     "metadata": {},
     "output_type": "execute_result"
    }
   ],
   "source": [
    "best_seed_nmbr"
   ]
  },
  {
   "cell_type": "code",
   "execution_count": 66,
   "metadata": {},
   "outputs": [],
   "source": [
    "# Best seed number 607 contains all types in each category!! \n",
    "# These are the slides with final samples. \n",
    "df1 =  tile_sheet[tile_sheet['Patient'].isin(df1['Patient'])].reset_index(drop=True)\n",
    "df2 =  tile_sheet[tile_sheet['Patient'].isin(df2['Patient'])].reset_index(drop=True)\n",
    "df3 =  tile_sheet[tile_sheet['Patient'].isin(df3['Patient'])].reset_index(drop=True)\n",
    "df4 =  tile_sheet[tile_sheet['Patient'].isin(df4['Patient'])].reset_index(drop=True)\n",
    "df5 =  tile_sheet[tile_sheet['Patient'].isin(df5['Patient'])].reset_index(drop=True)\n"
   ]
  },
  {
   "cell_type": "code",
   "execution_count": 67,
   "metadata": {},
   "outputs": [
    {
     "name": "stdout",
     "output_type": "stream",
     "text": [
      "True\n",
      "True\n",
      "True\n",
      "True\n",
      "True\n"
     ]
    }
   ],
   "source": [
    "print(len(list(Counter(df1['Type']).keys())) == 6)\n",
    "print(len(list(Counter(df2['Type']).keys())) == 6)\n",
    "print(len(list(Counter(df3['Type']).keys())) == 6)\n",
    "print(len(list(Counter(df4['Type']).keys())) == 6)\n",
    "print(len(list(Counter(df5['Type']).keys())) == 6)"
   ]
  },
  {
   "cell_type": "code",
   "execution_count": 69,
   "metadata": {},
   "outputs": [
    {
     "name": "stdout",
     "output_type": "stream",
     "text": [
      "Counter({'MED12': 1943881, 'HMGA2': 1043275, 'UNK': 611754, 'HMGA1': 533623, 'YEATS4': 119344, 'OM': 99460})\n",
      "Counter({'MED12': 2996314, 'UNK': 640022, 'HMGA2': 479609, 'HMGA1': 426807, 'OM': 150970, 'YEATS4': 66271})\n",
      "Counter({'MED12': 2518607, 'HMGA1': 669192, 'HMGA2': 499766, 'UNK': 347683, 'OM': 309244, 'YEATS4': 64079})\n",
      "Counter({'MED12': 2724722, 'HMGA2': 1038019, 'UNK': 368173, 'HMGA1': 268134, 'OM': 157974, 'YEATS4': 33213})\n",
      "Counter({'MED12': 3154139, 'HMGA2': 533067, 'HMGA1': 423485, 'UNK': 342696, 'OM': 63644, 'YEATS4': 52407})\n"
     ]
    }
   ],
   "source": [
    "# Do the same on tile lvl\n",
    "print(Counter(df1['Type']))\n",
    "print(Counter(df2['Type']))\n",
    "print(Counter(df3['Type']))\n",
    "print(Counter(df4['Type']))\n",
    "print(Counter(df5['Type']))"
   ]
  },
  {
   "cell_type": "code",
   "execution_count": 70,
   "metadata": {},
   "outputs": [
    {
     "name": "stdout",
     "output_type": "stream",
     "text": [
      "47\n",
      "47\n",
      "47\n",
      "46\n",
      "46\n"
     ]
    }
   ],
   "source": [
    "# Do the same on tile lvl\n",
    "print(len(Counter(df1['Patient'])))\n",
    "print(len(Counter(df2['Patient'])))\n",
    "print(len(Counter(df3['Patient'])))\n",
    "print(len(Counter(df4['Patient'])))\n",
    "print(len(Counter(df5['Patient'])))"
   ]
  },
  {
   "cell_type": "code",
   "execution_count": 71,
   "metadata": {},
   "outputs": [
    {
     "name": "stdout",
     "output_type": "stream",
     "text": [
      "100\n",
      "97\n",
      "94\n",
      "100\n",
      "106\n"
     ]
    }
   ],
   "source": [
    "# Do the same on tile lvl\n",
    "print(len(Counter(df1['Sample'])))\n",
    "print(len(Counter(df2['Sample'])))\n",
    "print(len(Counter(df3['Sample'])))\n",
    "print(len(Counter(df4['Sample'])))\n",
    "print(len(Counter(df5['Sample'])))"
   ]
  },
  {
   "cell_type": "code",
   "execution_count": 73,
   "metadata": {},
   "outputs": [],
   "source": [
    "# Save tile-by-fold tsv's!\n",
    "df1[['Sample','Type','Tile']].to_csv('/lustre/scratch/kiviaho/myoma/myoma-new/data/tile_split/fold-1-in-5-tile-paths.tsv',sep='\\t')\n",
    "df2[['Sample','Type','Tile']].to_csv('/lustre/scratch/kiviaho/myoma/myoma-new/data/tile_split/fold-2-in-5-tile-paths.tsv',sep='\\t')\n",
    "df3[['Sample','Type','Tile']].to_csv('/lustre/scratch/kiviaho/myoma/myoma-new/data/tile_split/fold-3-in-5-tile-paths.tsv',sep='\\t')\n",
    "df4[['Sample','Type','Tile']].to_csv('/lustre/scratch/kiviaho/myoma/myoma-new/data/tile_split/fold-4-in-5-tile-paths.tsv',sep='\\t')\n",
    "df5[['Sample','Type','Tile']].to_csv('/lustre/scratch/kiviaho/myoma/myoma-new/data/tile_split/fold-5-in-5-tile-paths.tsv',sep='\\t')"
   ]
  },
  {
   "cell_type": "code",
   "execution_count": 76,
   "metadata": {},
   "outputs": [
    {
     "data": {
      "text/plain": [
       "<matplotlib.legend.Legend at 0x7ff70fdf58d0>"
      ]
     },
     "execution_count": 76,
     "metadata": {},
     "output_type": "execute_result"
    },
    {
     "data": {
      "image/png": "[encoded data removed]",
      "text/plain": [
       "<Figure size 600x600 with 1 Axes>"
      ]
     },
     "metadata": {
      "needs_background": "light"
     },
     "output_type": "display_data"
    }
   ],
   "source": [
    "data = df1\n",
    "\n",
    "values = list(Counter(data['Type']).values())\n",
    "labs = list(Counter(data['Type']).keys())\n",
    "\n",
    "labs = [x for _,x in sorted(zip(values,labs),reverse=True)]\n",
    "values = sorted(values,reverse=True)\n",
    "\n",
    "if data.equals(df4):\n",
    "    print('It do be true')\n",
    "    labs = np.asarray(labs)[[0,2,1,3]].tolist()\n",
    "    values = np.asarray(values)[[0,2,1,3]].tolist()\n",
    "\n",
    "\n",
    "cmap = cm.get_cmap('viridis',6).colors\n",
    "\n",
    "fig = plt.figure(figsize=(4,4),dpi=150)\n",
    "plt.bar(x=labs,\n",
    "        height =values,\n",
    "        label = labs,\n",
    "        color = cmap,\n",
    "        )\n",
    "\n",
    "ax = plt.gca()\n",
    "ax.set_ylim([0, 3.4e6])\n",
    "ax.get_xaxis().set_visible(False)\n",
    "plt.title(label='{:.1e} Tiles'.format(len(data)),loc='right')\n",
    "    \n",
    "# plt.pie(values,\n",
    "#         labels=['','','',''],\n",
    "#         counterclock=False,\n",
    "#         pctdistance=1.2,\n",
    "#         startangle=90,\n",
    "#         autopct='%1.1f%%',\n",
    "#         shadow=True,\n",
    "#         textprops = {\"fontsize\":10,'color':'black'},\n",
    "#         colors=cmap\n",
    "#        )\n",
    " \n",
    "#plt.legend(labels=labs, loc='upper center',bbox_to_anchor=(0.5, -0.04),\n",
    "#       ncol=2,prop={\"size\":20})\n",
    "\n"
   ]
  },
  {
   "cell_type": "code",
   "execution_count": null,
   "metadata": {},
   "outputs": [],
   "source": []
  }
 ],
 "metadata": {
  "kernelspec": {
   "display_name": "Python 3 (ipykernel)",
   "language": "python",
   "name": "python3"
  },
  "language_info": {
   "codemirror_mode": {
    "name": "ipython",
    "version": 3
   },
   "file_extension": ".py",
   "mimetype": "text/x-python",
   "name": "python",
   "nbconvert_exporter": "python",
   "pygments_lexer": "ipython3",
   "version": "3.7.0"
  }
 },
 "nbformat": 4,
 "nbformat_minor": 2
}
