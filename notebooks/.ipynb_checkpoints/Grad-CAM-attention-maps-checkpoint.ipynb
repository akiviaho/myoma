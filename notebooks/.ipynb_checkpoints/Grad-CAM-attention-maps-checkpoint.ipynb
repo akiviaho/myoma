{
 "cells": [
  {
   "cell_type": "code",
   "execution_count": 1,
   "id": "3291e19b",
   "metadata": {},
   "outputs": [],
   "source": [
    "# Author: Antti Kiviaho\n",
    "# Date: 9.6.2022\n",
    "#\n",
    "# Grad-CAM environment for finding the most important features affecting CNN function \n",
    "# https://keras.io/examples/vision/grad_cam/"
   ]
  },
  {
   "cell_type": "code",
   "execution_count": 6,
   "id": "80586caf",
   "metadata": {},
   "outputs": [],
   "source": [
    "from matplotlib import pyplot as plt\n",
    "from matplotlib import cm\n",
    "import numpy as np\n",
    "import pandas as pd\n",
    "import tensorflow as tf\n",
    "from tensorflow import keras\n",
    "from collections import Counter\n",
    "import warnings\n",
    "warnings.filterwarnings('ignore')\n"
   ]
  },
  {
   "cell_type": "code",
   "execution_count": 3,
   "id": "9e87b80e",
   "metadata": {},
   "outputs": [],
   "source": [
    "# FUNCTION DEFINITIONS\n",
    "\n",
    "from enum import IntEnum\n",
    "class toIntEnum(IntEnum):\n",
    "    MED12 = 0\n",
    "    HMGA2 = 1\n",
    "    UNK = 2\n",
    "    HMGA1 = 3\n",
    "    OM = 4\n",
    "    YEATS4 = 5\n",
    "\n",
    "\n",
    "\n",
    "\n",
    "def get_coordinates(df_subset):\n",
    "    # Getting the coordinates\n",
    "    tiles = [s.split('/')[len(s.split('/'))-1].strip('.jpg') for s in df_subset['Path']]\n",
    "    tile_coords = []\n",
    "    for s in tiles:\n",
    "        if 'm' in s:\n",
    "            tile_coords.append(s.split('_')[2:4])\n",
    "        elif 'T' in s:\n",
    "            tile_coords.append(s.split('_')[4:6])\n",
    "    tile_coords = np.asarray(tile_coords,dtype=np.int64)\n",
    "    df_subset['y_coord'] = tile_coords[:,1]\n",
    "    df_subset['x_coord'] = tile_coords[:,0]\n",
    "    df_subset.sort_values(['x_coord', 'y_coord'], ascending=[True, False],inplace=True)\n",
    "    df_subset = df_subset.reset_index(drop=True)\n",
    "    return df_subset\n",
    "\n",
    "\n",
    "def get_img_array(img_path, size=(598,598,3)):\n",
    "    # `img` is a PIL image of size 598 x 598 x 3\n",
    "    img = keras.preprocessing.image.load_img(img_path, target_size=size)\n",
    "    # `array` is a float32 Numpy array of shape (299, 299, 3)\n",
    "    array = keras.preprocessing.image.img_to_array(img)\n",
    "    # We add a dimension to transform our array into a \"batch\"\n",
    "    # of size (1, 598, 598, 3)\n",
    "    array = np.expand_dims(array, axis=0)\n",
    "    array = np.divide(array,255,dtype=np.float16)\n",
    "    return array\n",
    "\n",
    "\n",
    "def make_gradcam_heatmap(img_array, model, grad_model, last_conv_layer_name, pred_index=None):\n",
    "    \n",
    "    # Then, we compute the gradient of the top predicted class for our input image\n",
    "    # with respect to the activations of the last conv layer\n",
    "    with tf.GradientTape() as tape:\n",
    "        last_conv_layer_output, preds = grad_model(img_array)\n",
    "        if pred_index is None:\n",
    "            pred_index = tf.argmax(preds[0])\n",
    "        class_channel = preds[:, pred_index]\n",
    "\n",
    "    # This is the gradient of the output neuron (top predicted or chosen)\n",
    "    # with regard to the output feature map of the last conv layer\n",
    "    grads = tape.gradient(class_channel, last_conv_layer_output)\n",
    "\n",
    "    # This is a vector where each entry is the mean intensity of the gradient\n",
    "    # over a specific feature map channel\n",
    "    pooled_grads = tf.reduce_mean(grads, axis=(0, 1, 2))\n",
    "\n",
    "    # We multiply each channel in the feature map array\n",
    "    # by \"how important this channel is\" with regard to the top predicted class\n",
    "    # then sum all the channels to obtain the heatmap class activation\n",
    "    last_conv_layer_output = last_conv_layer_output[0]\n",
    "    heatmap = last_conv_layer_output @ pooled_grads[..., tf.newaxis]\n",
    "    heatmap = tf.squeeze(heatmap)\n",
    "\n",
    "    # For visualization purpose, we will also normalize the heatmap between 0 & 1\n",
    "    heatmap = tf.maximum(heatmap, 0) / tf.math.reduce_max(heatmap)\n",
    "    return heatmap.numpy()\n",
    "\n",
    "def superimpose_and_save_gradcam(img_path, heatmap, cam_path=\"cam.jpg\", alpha=0.4):\n",
    "    # Load the original image\n",
    "    img = keras.preprocessing.image.load_img(img_path)\n",
    "    img = keras.preprocessing.image.img_to_array(img)\n",
    "\n",
    "    jet_heatmap = modify_heatmap(heatmap,img.shape)\n",
    "    \n",
    "    # Superimpose the heatmap on original image\n",
    "    superimposed_img = jet_heatmap * alpha + img\n",
    "    superimposed_img = keras.preprocessing.image.array_to_img(superimposed_img)\n",
    "\n",
    "    return superimposed_img\n",
    "    # Save the superimposed image\n",
    "    #superimposed_img.save(cam_path)\n",
    "\n",
    "\n",
    "def modify_heatmap(heatmap,tile_dim):\n",
    "    # Rescale heatmap to a range 0-255\n",
    "    heatmap = np.uint8(255 * heatmap)\n",
    "\n",
    "    # Use jet colormap to colorize heatmap\n",
    "    jet = cm.get_cmap(\"jet\")\n",
    "\n",
    "    # Use RGB values of the colormap\n",
    "    jet_colors = jet(np.arange(256))[:, :3]\n",
    "    jet_heatmap = jet_colors[heatmap]\n",
    "\n",
    "    # Create an image with RGB colorized heatmap\n",
    "    jet_heatmap = keras.preprocessing.image.array_to_img(jet_heatmap)\n",
    "    jet_heatmap = jet_heatmap.resize((tile_dim[1], tile_dim[0]))\n",
    "    jet_heatmap = keras.preprocessing.image.img_to_array(jet_heatmap)\n",
    "    \n",
    "    return jet_heatmap\n",
    "    \n",
    "def plot_random_tiles(df,n_tiles):\n",
    "    plt.figure(figsize=(n_tiles, n_tiles))\n",
    "\n",
    "    i= 0\n",
    "    for n in np.random.randint(0,len(df),n_tiles):\n",
    "        ax = plt.subplot(5, 5, i + 1)\n",
    "        plt.imshow(plt.imread(df['Path'][n])) \n",
    "        plt.title(\n",
    "            df['Sample'][n] + ': ' + toIntEnum(df['Label'][n]).name\n",
    "                 )\n",
    "        plt.axis(\"off\")\n",
    "        i+=1\n",
    "    return\n",
    "\n",
    "def plot_random_heatmaps(df,n_tiles):\n",
    "    plt.figure(figsize=(n_tiles, n_tiles))\n",
    "\n",
    "    i= 0\n",
    "    for n in np.random.randint(0,len(df),n_tiles):\n",
    "        ax = plt.subplot(5, 5, i + 1)\n",
    "        plt.imshow(np.load(df['hmap_file'][n]))\n",
    "        plt.title(\n",
    "            df['Sample'][n] + ': ' + toIntEnum(df['Label'][n]).name\n",
    "                 )\n",
    "        plt.axis(\"off\")\n",
    "        i+=1\n",
    "    return"
   ]
  },
  {
   "cell_type": "code",
   "execution_count": 4,
   "id": "2dd8f97b",
   "metadata": {},
   "outputs": [],
   "source": [
    "# DOWNLOAD THE SAMPLE INFORMATION MATRICES\n",
    "# Sheets: res_sheet = prediction float values for each class \n",
    "# MED12 = 0, HMGA2 = 1, UNK = 2, HMGA1 = 3, OM = 4, YEATS4 = 5\n",
    "res_sheet = 'multiclass_folds_1-4_2_epochs_100_percent_21892820_at_2022-07-04_09:01:38_598px_multiclass_prediction_results.csv'\n",
    "tfrecord_contents = pd.read_csv('/lustre/scratch/kiviaho/myoma/myoma-new/fold_5_tfr_contents.tsv')\n",
    "save_path = '/lustre/scratch/kiviaho/myoma/myoma-new/grad-cam-maps/heatmaps/'\n",
    "\n",
    "\n",
    "results = pd.read_csv('/lustre/scratch/kiviaho/myoma/myoma-new/results/result-sheets/'+res_sheet)\n",
    "results.dropna(inplace=True)\n",
    "results = results.rename(columns={'0': 0, '1': 1,'2': 2,'3': 3,'4':4,'5':5})\n",
    "\n",
    "results = results.loc[:,[0,1,2,3,4,5]]\n",
    "\n",
    "tfrecord_contents = tfrecord_contents[:len(results)]\n",
    "\n",
    "# Combine the extracted information & predictions\n",
    "results = pd.concat([tfrecord_contents.reset_index(drop=True), results], axis=1)\n",
    "results = results.drop(results.columns[0], axis=1) # Remove old indices\n",
    "\n"
   ]
  },
  {
   "cell_type": "code",
   "execution_count": 7,
   "id": "a167a563",
   "metadata": {},
   "outputs": [],
   "source": [
    "certain_MED12 = results[results[0] == 1][results['Label'] == 0].reset_index(drop=True)\n"
   ]
  },
  {
   "cell_type": "code",
   "execution_count": 9,
   "id": "dacf1c0e",
   "metadata": {},
   "outputs": [
    {
     "name": "stdout",
     "output_type": "stream",
     "text": [
      "WARNING:tensorflow:Mixed precision compatibility check (mixed_float16): WARNING\n",
      "The dtype policy mixed_float16 may run slowly because this machine does not have a GPU. Only Nvidia GPUs with compute capability of at least 7.0 run quickly with mixed_float16.\n",
      "If you will use compatible GPU(s) not attached to this host, e.g. by running a multi-worker model, you can ignore this warning. This message will only be logged once\n"
     ]
    },
    {
     "name": "stderr",
     "output_type": "stream",
     "text": [
      "2022-07-26 11:07:20.532684: W tensorflow/stream_executor/platform/default/dso_loader.cc:64] Could not load dynamic library 'libcuda.so.1'; dlerror: libcuda.so.1: cannot open shared object file: No such file or directory; LD_LIBRARY_PATH: /home/opt/cuda-11.2/lib64\n",
      "2022-07-26 11:07:20.532722: W tensorflow/stream_executor/cuda/cuda_driver.cc:269] failed call to cuInit: UNKNOWN ERROR (303)\n",
      "2022-07-26 11:07:20.532750: I tensorflow/stream_executor/cuda/cuda_diagnostics.cc:156] kernel driver does not appear to be running on this host (narvi-shell.cc.tut.fi): /proc/driver/nvidia/version does not exist\n",
      "2022-07-26 11:07:20.854508: I tensorflow/core/platform/cpu_feature_guard.cc:151] This TensorFlow binary is optimized with oneAPI Deep Neural Network Library (oneDNN) to use the following CPU instructions in performance-critical operations:  AVX2 FMA\n",
      "To enable them in other operations, rebuild TensorFlow with the appropriate compiler flags.\n"
     ]
    }
   ],
   "source": [
    "model = keras.models.load_model('/lustre/scratch/kiviaho/myoma/myoma-new/results/multilabel_KF-1-4_1_epochs_100_percent_21875130_at_2022-06-12_19:39:50_598px.h5')\n",
    "# Remove last layer's activation\n",
    "model.layers[-1].activation = None\n",
    "img_size = (598, 598,3)\n",
    "\n",
    "last_conv_layer_name = 'conv2d_93'\n",
    "\n",
    "# First, we create a model that maps the input image to the activations\n",
    "# of the last conv layer as well as the output predictions\n",
    "grad_model = tf.keras.models.Model(\n",
    "    [model.inputs], [model.get_layer(last_conv_layer_name).output, model.output]\n",
    ")\n",
    "\n"
   ]
  },
  {
   "cell_type": "code",
   "execution_count": 179,
   "id": "cc06d2a4",
   "metadata": {},
   "outputs": [],
   "source": [
    "data = certain_MED12\n",
    "idx = 0\n",
    "data = data.sample(n=1000,random_state=100).reset_index(drop=True)\n",
    "data = get_coordinates(data)\n",
    "data['Heatmap'] = ''"
   ]
  },
  {
   "cell_type": "code",
   "execution_count": 127,
   "id": "d69de243",
   "metadata": {},
   "outputs": [],
   "source": [
    "img_array = get_img_array(data['Path'][400])\n",
    "heatmap = make_gradcam_heatmap(img_array, model, grad_model, last_conv_layer_name,pred_index=idx)"
   ]
  },
  {
   "cell_type": "code",
   "execution_count": null,
   "id": "45380ea1",
   "metadata": {},
   "outputs": [],
   "source": []
  },
  {
   "cell_type": "code",
   "execution_count": 237,
   "id": "05bd1fc4",
   "metadata": {},
   "outputs": [],
   "source": [
    "hmaps = pd.read_csv('/lustre/scratch/kiviaho/myoma/myoma-new/grad-cam-maps/sheets/YEATS4_2000_tiles_grad_cam_hmap.tsv',sep='\\t',index_col=0)\n",
    "\n"
   ]
  },
  {
   "cell_type": "code",
   "execution_count": 238,
   "id": "b4749ab6",
   "metadata": {},
   "outputs": [
    {
     "data": {
      "image/png": "[encoded data removed]",
      "text/plain": [
       "<Figure size 1440x1440 with 20 Axes>"
      ]
     },
     "metadata": {
      "needs_background": "light"
     },
     "output_type": "display_data"
    }
   ],
   "source": [
    "plot_random_heatmaps(hmaps,20)"
   ]
  },
  {
   "cell_type": "code",
   "execution_count": null,
   "id": "36d60abb",
   "metadata": {},
   "outputs": [],
   "source": [
    "# Save 1000 of confidently predicted tiles for each class \n",
    "# --> download and cluster in another script. Save also the tile path"
   ]
  }
 ],
 "metadata": {
  "kernelspec": {
   "display_name": "Python 3 (ipykernel)",
   "language": "python",
   "name": "python3"
  },
  "language_info": {
   "codemirror_mode": {
    "name": "ipython",
    "version": 3
   },
   "file_extension": ".py",
   "mimetype": "text/x-python",
   "name": "python",
   "nbconvert_exporter": "python",
   "pygments_lexer": "ipython3",
   "version": "3.7.0"
  }
 },
 "nbformat": 4,
 "nbformat_minor": 5
}
